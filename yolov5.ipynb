{
  "nbformat": 4,
  "nbformat_minor": 0,
  "metadata": {
    "accelerator": "GPU",
    "colab": {
      "name": "yolov5.ipynb",
      "private_outputs": true,
      "provenance": [],
      "collapsed_sections": []
    },
    "kernelspec": {
      "display_name": "Python 3",
      "name": "python3"
    },
    "language_info": {
      "name": "python"
    }
  },
  "cells": [
    {
      "cell_type": "markdown",
      "metadata": {
        "id": "zk69Kg8R_SiE"
      },
      "source": [
        "# Quick Start Examples"
      ]
    },
    {
      "cell_type": "markdown",
      "metadata": {
        "id": "ewZ528jXX2M3"
      },
      "source": [
        "# 1. Install\n",
        "* Python>=3.6.0 is required with all requirements.txt installed including PyTorch>=1.7:"
      ]
    },
    {
      "cell_type": "code",
      "metadata": {
        "id": "iOAu3ary51NA"
      },
      "source": [
        "!git clone https://github.com/ultralytics/yolov5\n",
        "%cd yolov5\n",
        "!pip install -r requirements.txt"
      ],
      "execution_count": null,
      "outputs": []
    },
    {
      "cell_type": "markdown",
      "metadata": {
        "id": "DwT_dzDQ_mUt"
      },
      "source": [
        "# 2. Inference\n",
        "* Inference with YOLOv5 and PyTorch Hub. Models automatically download from the latest YOLOv5 release."
      ]
    },
    {
      "cell_type": "code",
      "metadata": {
        "id": "5zvmrtZJQlgt"
      },
      "source": [
        "import torch\n",
        "\n",
        "print('Setup Info.\\nUsing torch %s %s' % (torch.__version__, torch.cuda.get_device_properties(0) \n",
        "                                          if torch.cuda.is_available() else 'CPU'))"
      ],
      "execution_count": null,
      "outputs": []
    },
    {
      "cell_type": "code",
      "metadata": {
        "id": "U69k9L8x_27M"
      },
      "source": [
        "# Model\n",
        "model = torch.hub.load('ultralytics/yolov5', 'yolov5x')  # or yolov5m, yolov5l, yolov5x, custom\n",
        "\n",
        "# Images\n",
        "img = 'https://ultralytics.com/images/zidane.jpg'  # or file, Path, PIL, OpenCV, numpy, list\n",
        "\n",
        "# Inference\n",
        "results = model(img)\n",
        "\n",
        "# Results\n",
        "results.print()  # or .show(), .save(), .crop(), .pandas(), etc.\n",
        "#results.show()"
      ],
      "execution_count": null,
      "outputs": []
    },
    {
      "cell_type": "markdown",
      "metadata": {
        "id": "2qlISiMIAGKK"
      },
      "source": [
        "# 3. Inference with detect.py\n",
        "* detect.py runs inference on a variety of sources, downloading models automatically from the latest YOLOv5 release and saving results to runs/detect."
      ]
    },
    {
      "cell_type": "code",
      "metadata": {
        "id": "O1qz2KXgAwXC"
      },
      "source": [
        "$ python detect.py --source 0  # webcam\n",
        "                            file.jpg  # image \n",
        "                            file.mp4  # video\n",
        "                            path/  # directory\n",
        "                            path/*.jpg  # glob\n",
        "                            'https://youtu.be/NUsoVlDFqZg'  # YouTube\n",
        "                            'rtsp://example.com/media.mp4'  # RTSP, RTMP, HTTP stream"
      ],
      "execution_count": null,
      "outputs": []
    },
    {
      "cell_type": "markdown",
      "metadata": {
        "id": "dvZaiIO2BS-X"
      },
      "source": [
        "# 4. Training\n",
        "* Run commands below to reproduce results on COCO dataset (dataset auto-downloads on first use). Training times for YOLOv5s/m/l/x are 2/4/6/8 days on a single V100 (multi-GPU times faster). Use the largest --batch-size your GPU allows (batch sizes shown for 16 GB devices)."
      ]
    },
    {
      "cell_type": "code",
      "metadata": {
        "id": "71TF8RwsBYyS"
      },
      "source": [
        "!python train.py --data coco.yaml --cfg yolov5s.yaml --weights '' --batch-size 64\n",
        "#                                       yolov5m                                40\n",
        "#                                       yolov5l                                24\n",
        "#                                       yolov5x                                16"
      ],
      "execution_count": null,
      "outputs": []
    },
    {
      "cell_type": "markdown",
      "metadata": {
        "id": "xzxTJ7pnBeL7"
      },
      "source": [
        "# 5. Test with trained model\n",
        "* uploading file then call a trained model, yolov5x.pt for detection."
      ]
    },
    {
      "cell_type": "code",
      "metadata": {
        "id": "1K6qnALoMwWI"
      },
      "source": [
        "# Colab 에서는 이렇게 하는 것이 제일 간단함.\n",
        "!gdown --id '1OS4PfGD5lVlJj8e1TxJGLlmMMgFt-m7S'"
      ],
      "execution_count": null,
      "outputs": []
    },
    {
      "cell_type": "code",
      "metadata": {
        "id": "uFXStfgRLxZr"
      },
      "source": [
        "# gdown 대신 아래의 고전적인 방법을 사용해도 됨.\n",
        "#!wget -O blackbox_sample.mp4 --no-check-certificate \"https://drive.google.com/file/d/1OS4PfGD5lVlJj8e1TxJGLlmMMgFt-m7S/\""
      ],
      "execution_count": null,
      "outputs": []
    },
    {
      "cell_type": "code",
      "metadata": {
        "id": "IoAGsVbGYbMd"
      },
      "source": [
        "%%time\n",
        "!python detect.py --weights yolov5x.pt --img 1280 --conf 0.4 --source /content/blackbox_sample.mp4"
      ],
      "execution_count": null,
      "outputs": []
    },
    {
      "cell_type": "code",
      "metadata": {
        "id": "6Kz8NyunNr-_"
      },
      "source": [
        ""
      ],
      "execution_count": null,
      "outputs": []
    }
  ]
}